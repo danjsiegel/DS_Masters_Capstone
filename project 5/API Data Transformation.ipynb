{
 "cells": [
  {
   "cell_type": "markdown",
   "metadata": {},
   "source": [
    "# Term Project \n",
    "During the course, you will be working on a term project to either pull data from an API or scrape a\n",
    "webpage. You will need to select either an API (different than Twitter) or a Webpage and create a\n",
    "process in Python that will extract data into a formatted dataset.\n",
    "\n",
    "There are no restrictions on what API or Webpage you use, other than you cannot use Twitter or the\n",
    "Webpages used in the exercises from your book.\n",
    "You will turn in your project at the end of the term.\n",
    "The following is due submitted to the assignment link or submit a link to your GitHub repository to the\n",
    "assignment link:\n",
    "- Your formatted dataset with at least 15-20 variables (if the API or Webpage you selected doesn’t have that many fields available on it, you will want to search again, or do multiple!)\n",
    "- Your code or screenshots of your code outlining the steps and process you had to take to pull data from the API or web page and the steps you took to format the data.\n",
    "- 2 Data Transformation/Clean-up Steps (can be any that we learned in class)\n",
    "- A 250-word paper summarizing your steps and any challenges you ran into during the project. Discuss the importance and relevance of this type of process if you were a data scientist. How often do you think you would have to do this to get the data you need?\n",
    "\n"
   ]
  },
  {
   "cell_type": "code",
   "execution_count": 44,
   "metadata": {},
   "outputs": [],
   "source": [
    "from twitter_keys import google_maps\n",
    "import requests \n",
    "import json\n",
    "import pandas as pd\n",
    "from pandas.io.json import json_normalize"
   ]
  },
  {
   "cell_type": "code",
   "execution_count": 76,
   "metadata": {},
   "outputs": [],
   "source": [
    "search_params = {'input':'Bellevue%20University','type': 'textquery', 'fields':'place_id', 'api_key': secret['api_key']}"
   ]
  },
  {
   "cell_type": "code",
   "execution_count": 99,
   "metadata": {},
   "outputs": [],
   "source": [
    "def find_place(params):\n",
    "    '''\n",
    "    Searches for a place and returns the place ID. \n",
    "    Params:\n",
    "        a dict of the following: \n",
    "        input: term which will be searched\n",
    "        type: type of search to be performed\n",
    "        fields: data to return back from search (always place_id)\n",
    "        api_key: secret api key to make the request\n",
    "    '''\n",
    "    url = 'https://maps.googleapis.com/maps/api/place/findplacefromtext/json?input=_IN_&inputtype=_TP_&fields=_F_&key=_K_'\n",
    "    url = url.replace('_IN_', params['input']).replace('_TP_',params['type']).replace('_F_',params['fields']).replace('_K_',secret['api_key'])\n",
    "    r = requests.get(url)\n",
    "    result = r.json()\n",
    "    candidates = result['candidates'][0]\n",
    "    return candidates['place_id']    "
   ]
  },
  {
   "cell_type": "code",
   "execution_count": 102,
   "metadata": {},
   "outputs": [],
   "source": [
    "place_id = find_place(search_params)"
   ]
  },
  {
   "cell_type": "code",
   "execution_count": 113,
   "metadata": {},
   "outputs": [],
   "source": [
    "find_place_by_id_params = {'fields':'rating,formatted_address,geometry,name,permanently_closed,place_id,plus_code,scope,type,url,vicinity,website,formatted_phone_number,international_phone_number',\n",
    "                           'placeid':place_id,\n",
    "                           'api_key': secret['api_key']\n",
    "                          }"
   ]
  },
  {
   "cell_type": "code",
   "execution_count": 114,
   "metadata": {},
   "outputs": [],
   "source": [
    "def get_place_by_id(params_dict):\n",
    "    '''\n",
    "    Searches for place once the ID is known. The function also returns a dataframe.\n",
    "    The dataframe will serve as the first data cleanup step by transforming raw JSON\n",
    "    into a dataframe\n",
    "    Params\n",
    "    '''\n",
    "    url = 'https://maps.googleapis.com/maps/api/place/details/json?placeid=_P_&fields=_F_&key=_K_'\n",
    "    url = url.replace('_P_', params_dict['placeid']).replace('_F_',params_dict['fields']).replace('_K_',params_dict['api_key'])\n",
    "    r = requests.get(url)\n",
    "    r_text = r.text\n",
    "    r_text= json.loads(r_text)\n",
    "    df = json_normalize(r_text)\n",
    "    return df\n",
    "    "
   ]
  },
  {
   "cell_type": "code",
   "execution_count": 115,
   "metadata": {},
   "outputs": [],
   "source": [
    "df = get_place_by_id(find_place_by_id_params)"
   ]
  },
  {
   "cell_type": "code",
   "execution_count": 116,
   "metadata": {},
   "outputs": [
    {
     "data": {
      "text/html": [
       "<div>\n",
       "<style scoped>\n",
       "    .dataframe tbody tr th:only-of-type {\n",
       "        vertical-align: middle;\n",
       "    }\n",
       "\n",
       "    .dataframe tbody tr th {\n",
       "        vertical-align: top;\n",
       "    }\n",
       "\n",
       "    .dataframe thead th {\n",
       "        text-align: right;\n",
       "    }\n",
       "</style>\n",
       "<table border=\"1\" class=\"dataframe\">\n",
       "  <thead>\n",
       "    <tr style=\"text-align: right;\">\n",
       "      <th></th>\n",
       "      <th>html_attributions</th>\n",
       "      <th>result.formatted_address</th>\n",
       "      <th>result.formatted_phone_number</th>\n",
       "      <th>result.geometry.location.lat</th>\n",
       "      <th>result.geometry.location.lng</th>\n",
       "      <th>result.geometry.viewport.northeast.lat</th>\n",
       "      <th>result.geometry.viewport.northeast.lng</th>\n",
       "      <th>result.geometry.viewport.southwest.lat</th>\n",
       "      <th>result.geometry.viewport.southwest.lng</th>\n",
       "      <th>result.international_phone_number</th>\n",
       "      <th>...</th>\n",
       "      <th>result.place_id</th>\n",
       "      <th>result.plus_code.compound_code</th>\n",
       "      <th>result.plus_code.global_code</th>\n",
       "      <th>result.rating</th>\n",
       "      <th>result.scope</th>\n",
       "      <th>result.types</th>\n",
       "      <th>result.url</th>\n",
       "      <th>result.vicinity</th>\n",
       "      <th>result.website</th>\n",
       "      <th>status</th>\n",
       "    </tr>\n",
       "  </thead>\n",
       "  <tbody>\n",
       "    <tr>\n",
       "      <th>0</th>\n",
       "      <td>[]</td>\n",
       "      <td>1000 Galvin Rd S, Bellevue, NE 68005, USA</td>\n",
       "      <td>(402) 293-2000</td>\n",
       "      <td>41.150977</td>\n",
       "      <td>-95.919596</td>\n",
       "      <td>41.155714</td>\n",
       "      <td>-95.915233</td>\n",
       "      <td>41.146619</td>\n",
       "      <td>-95.92562</td>\n",
       "      <td>+1 402-293-2000</td>\n",
       "      <td>...</td>\n",
       "      <td>ChIJf4DKhmqIk4cR63XRQHKFjoM</td>\n",
       "      <td>532J+95 Bellevue, NE, United States</td>\n",
       "      <td>86H6532J+95</td>\n",
       "      <td>3.8</td>\n",
       "      <td>GOOGLE</td>\n",
       "      <td>[university, point_of_interest, establishment]</td>\n",
       "      <td>https://maps.google.com/?cid=9479660991421707755</td>\n",
       "      <td>1000 Galvin Road South, Bellevue</td>\n",
       "      <td>http://www.bellevue.edu/</td>\n",
       "      <td>OK</td>\n",
       "    </tr>\n",
       "  </tbody>\n",
       "</table>\n",
       "<p>1 rows × 21 columns</p>\n",
       "</div>"
      ],
      "text/plain": [
       "  html_attributions                   result.formatted_address  \\\n",
       "0                []  1000 Galvin Rd S, Bellevue, NE 68005, USA   \n",
       "\n",
       "  result.formatted_phone_number  result.geometry.location.lat  \\\n",
       "0                (402) 293-2000                     41.150977   \n",
       "\n",
       "   result.geometry.location.lng  result.geometry.viewport.northeast.lat  \\\n",
       "0                    -95.919596                               41.155714   \n",
       "\n",
       "   result.geometry.viewport.northeast.lng  \\\n",
       "0                              -95.915233   \n",
       "\n",
       "   result.geometry.viewport.southwest.lat  \\\n",
       "0                               41.146619   \n",
       "\n",
       "   result.geometry.viewport.southwest.lng result.international_phone_number  \\\n",
       "0                               -95.92562                   +1 402-293-2000   \n",
       "\n",
       "   ...                result.place_id       result.plus_code.compound_code  \\\n",
       "0  ...    ChIJf4DKhmqIk4cR63XRQHKFjoM  532J+95 Bellevue, NE, United States   \n",
       "\n",
       "  result.plus_code.global_code result.rating  result.scope  \\\n",
       "0                  86H6532J+95           3.8        GOOGLE   \n",
       "\n",
       "                                     result.types  \\\n",
       "0  [university, point_of_interest, establishment]   \n",
       "\n",
       "                                         result.url  \\\n",
       "0  https://maps.google.com/?cid=9479660991421707755   \n",
       "\n",
       "                    result.vicinity            result.website status  \n",
       "0  1000 Galvin Road South, Bellevue  http://www.bellevue.edu/     OK  \n",
       "\n",
       "[1 rows x 21 columns]"
      ]
     },
     "execution_count": 116,
     "metadata": {},
     "output_type": "execute_result"
    }
   ],
   "source": [
    "df"
   ]
  },
  {
   "cell_type": "markdown",
   "metadata": {},
   "source": [
    "## Data Cleanup #2\n",
    "Drop bad columns and rename"
   ]
  },
  {
   "cell_type": "code",
   "execution_count": 124,
   "metadata": {},
   "outputs": [],
   "source": [
    "df = df.drop(columns=['html_attributions','status'])"
   ]
  },
  {
   "cell_type": "code",
   "execution_count": 125,
   "metadata": {},
   "outputs": [
    {
     "data": {
      "text/plain": [
       "Index(['result.formatted_address', 'result.formatted_phone_number',\n",
       "       'result.geometry.location.lat', 'result.geometry.location.lng',\n",
       "       'result.geometry.viewport.northeast.lat',\n",
       "       'result.geometry.viewport.northeast.lng',\n",
       "       'result.geometry.viewport.southwest.lat',\n",
       "       'result.geometry.viewport.southwest.lng',\n",
       "       'result.international_phone_number', 'result.name', 'result.place_id',\n",
       "       'result.plus_code.compound_code', 'result.plus_code.global_code',\n",
       "       'result.rating', 'result.scope', 'result.types', 'result.url',\n",
       "       'result.vicinity', 'result.website'],\n",
       "      dtype='object')"
      ]
     },
     "execution_count": 125,
     "metadata": {},
     "output_type": "execute_result"
    }
   ],
   "source": [
    "df.columns"
   ]
  },
  {
   "cell_type": "code",
   "execution_count": 129,
   "metadata": {},
   "outputs": [],
   "source": [
    "columns_dict = {}\n",
    "for column in df.columns:\n",
    "    columns_dict[column] = column.replace('result.','')\n",
    "df = df.rename(columns=columns_dict)"
   ]
  },
  {
   "cell_type": "code",
   "execution_count": 130,
   "metadata": {},
   "outputs": [
    {
     "data": {
      "text/html": [
       "<div>\n",
       "<style scoped>\n",
       "    .dataframe tbody tr th:only-of-type {\n",
       "        vertical-align: middle;\n",
       "    }\n",
       "\n",
       "    .dataframe tbody tr th {\n",
       "        vertical-align: top;\n",
       "    }\n",
       "\n",
       "    .dataframe thead th {\n",
       "        text-align: right;\n",
       "    }\n",
       "</style>\n",
       "<table border=\"1\" class=\"dataframe\">\n",
       "  <thead>\n",
       "    <tr style=\"text-align: right;\">\n",
       "      <th></th>\n",
       "      <th>formatted_address</th>\n",
       "      <th>formatted_phone_number</th>\n",
       "      <th>geometry.location.lat</th>\n",
       "      <th>geometry.location.lng</th>\n",
       "      <th>geometry.viewport.northeast.lat</th>\n",
       "      <th>geometry.viewport.northeast.lng</th>\n",
       "      <th>geometry.viewport.southwest.lat</th>\n",
       "      <th>geometry.viewport.southwest.lng</th>\n",
       "      <th>international_phone_number</th>\n",
       "      <th>name</th>\n",
       "      <th>place_id</th>\n",
       "      <th>plus_code.compound_code</th>\n",
       "      <th>plus_code.global_code</th>\n",
       "      <th>rating</th>\n",
       "      <th>scope</th>\n",
       "      <th>types</th>\n",
       "      <th>url</th>\n",
       "      <th>vicinity</th>\n",
       "      <th>website</th>\n",
       "    </tr>\n",
       "  </thead>\n",
       "  <tbody>\n",
       "    <tr>\n",
       "      <th>0</th>\n",
       "      <td>1000 Galvin Rd S, Bellevue, NE 68005, USA</td>\n",
       "      <td>(402) 293-2000</td>\n",
       "      <td>41.150977</td>\n",
       "      <td>-95.919596</td>\n",
       "      <td>41.155714</td>\n",
       "      <td>-95.915233</td>\n",
       "      <td>41.146619</td>\n",
       "      <td>-95.92562</td>\n",
       "      <td>+1 402-293-2000</td>\n",
       "      <td>Bellevue University</td>\n",
       "      <td>ChIJf4DKhmqIk4cR63XRQHKFjoM</td>\n",
       "      <td>532J+95 Bellevue, NE, United States</td>\n",
       "      <td>86H6532J+95</td>\n",
       "      <td>3.8</td>\n",
       "      <td>GOOGLE</td>\n",
       "      <td>[university, point_of_interest, establishment]</td>\n",
       "      <td>https://maps.google.com/?cid=9479660991421707755</td>\n",
       "      <td>1000 Galvin Road South, Bellevue</td>\n",
       "      <td>http://www.bellevue.edu/</td>\n",
       "    </tr>\n",
       "  </tbody>\n",
       "</table>\n",
       "</div>"
      ],
      "text/plain": [
       "                           formatted_address formatted_phone_number  \\\n",
       "0  1000 Galvin Rd S, Bellevue, NE 68005, USA         (402) 293-2000   \n",
       "\n",
       "   geometry.location.lat  geometry.location.lng  \\\n",
       "0              41.150977             -95.919596   \n",
       "\n",
       "   geometry.viewport.northeast.lat  geometry.viewport.northeast.lng  \\\n",
       "0                        41.155714                       -95.915233   \n",
       "\n",
       "   geometry.viewport.southwest.lat  geometry.viewport.southwest.lng  \\\n",
       "0                        41.146619                        -95.92562   \n",
       "\n",
       "  international_phone_number                 name  \\\n",
       "0            +1 402-293-2000  Bellevue University   \n",
       "\n",
       "                      place_id              plus_code.compound_code  \\\n",
       "0  ChIJf4DKhmqIk4cR63XRQHKFjoM  532J+95 Bellevue, NE, United States   \n",
       "\n",
       "  plus_code.global_code  rating   scope  \\\n",
       "0           86H6532J+95     3.8  GOOGLE   \n",
       "\n",
       "                                            types  \\\n",
       "0  [university, point_of_interest, establishment]   \n",
       "\n",
       "                                                url  \\\n",
       "0  https://maps.google.com/?cid=9479660991421707755   \n",
       "\n",
       "                           vicinity                   website  \n",
       "0  1000 Galvin Road South, Bellevue  http://www.bellevue.edu/  "
      ]
     },
     "execution_count": 130,
     "metadata": {},
     "output_type": "execute_result"
    }
   ],
   "source": [
    "df"
   ]
  },
  {
   "cell_type": "markdown",
   "metadata": {},
   "source": [
    "# A 250-word paper summarizing your steps and any challenges you ran into during the project. Discuss the importance and relevance of this type of process if you were a data scientist. How often do you think you would have to do this to get the data you need?\n",
    "\n",
    "For my term project, I chose to use the Google Maps API and search for information about Bellevue University. In Google Maps, every address has a unique identifier: place_ID. I first query the API on Bellevue University. That returns a place ID which is then used for the second function. Now that we have the place ID, we are able to gather more information about the specific place we want to look at. Using that place ID, I make another request to Google Maps requesting more information about Bellevue University. There were more fields available, but I chose to use:\n",
    "-\trating\n",
    "-\tformatted_address\n",
    "-\tgeometry\n",
    "-\tname\n",
    "-   permanently_closed\n",
    "-\tplace_id\n",
    "-\tplus_code\n",
    "-\tscope\n",
    "-\ttype\n",
    "-\turl\n",
    "-\tvicinity\n",
    "-\twebsite\n",
    "-\tformatted_phone_number\n",
    "-\tinternational_phone_number\n",
    "\n",
    "\n",
    "Once the request is made, a formatted JSON is returned. For the first transformation, I chose to move the data into a dataframe. I use the JSON.loads() function to move the data into a more digestable format. I then use the Pandas.io.json_normalizer function to ingest the formatted data into a dataframe. The dataframe is the result which is returned from the function. The importance of performing this project as a 2 step process I think can speak to some of the challenges a data scientist will face. The first step was to find the unique identifier for Bellevue University. Google has a very robust API, and can very intuitively find what it is that you are looking for. Exactly what I was looking for was returned in the first result. In real life, that may not happen, and you may need to adjust your search parameters until you're able to get specific to exactly what it is you need. The second step can be performed regardless of if you have the right query result or not. It could even be hard coded. I think that this 2 step process, find the unique identifier, query the remaining information that I would need about would probably be used every day in the day to day of a data scientist. \n"
   ]
  },
  {
   "cell_type": "code",
   "execution_count": null,
   "metadata": {},
   "outputs": [],
   "source": []
  }
 ],
 "metadata": {
  "kernelspec": {
   "display_name": "Python 3",
   "language": "python",
   "name": "python3"
  },
  "language_info": {
   "codemirror_mode": {
    "name": "ipython",
    "version": 3
   },
   "file_extension": ".py",
   "mimetype": "text/x-python",
   "name": "python",
   "nbconvert_exporter": "python",
   "pygments_lexer": "ipython3",
   "version": "3.6.5"
  }
 },
 "nbformat": 4,
 "nbformat_minor": 2
}
